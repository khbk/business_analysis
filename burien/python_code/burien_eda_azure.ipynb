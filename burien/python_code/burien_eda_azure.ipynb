{
    "metadata": {
        "kernelspec": {
            "name": "python3",
            "display_name": "Python 3 (ipykernel)",
            "language": "python"
        },
        "language_info": {
            "name": "python",
            "version": "3.9.12",
            "mimetype": "text/x-python",
            "codemirror_mode": {
                "name": "ipython",
                "version": 3
            },
            "pygments_lexer": "ipython3",
            "nbconvert_exporter": "python",
            "file_extension": ".py"
        }
    },
    "nbformat_minor": 2,
    "nbformat": 4,
    "cells": [
        {
            "cell_type": "code",
            "source": [
                "import pandas as pd\n",
                "import numpy as np\n",
                "import matplotlib.pyplot as plt\n",
                "import seaborn as sns"
            ],
            "metadata": {
                "azdata_cell_guid": "72a9ca97-b54c-488e-9a6b-b27ea39d3efa",
                "language": "python"
            },
            "outputs": [],
            "execution_count": 132
        },
        {
            "cell_type": "code",
            "source": [
                "burien = pd.read_csv(\"/Users/kyoungbari/Desktop/Project/burien/data/burien.csv\")"
            ],
            "metadata": {
                "language": "python",
                "azdata_cell_guid": "5d0e859b-9044-4834-b59f-88051d3cd91c"
            },
            "outputs": [],
            "execution_count": 133
        },
        {
            "cell_type": "code",
            "source": [
                "burien = burien[['이번 달로 가기', '총매출', 'PACK', 'CARTON', 'GROCERY', 'MISC', 'VAPE', \n",
                "'KRATOM', 'TOBACCO', 'BEER', '후카', '메인포스', '카드']]"
            ],
            "metadata": {
                "language": "python",
                "azdata_cell_guid": "056fc9bf-5a8e-4ec7-bbeb-5687722be7e1"
            },
            "outputs": [],
            "execution_count": 134
        },
        {
            "cell_type": "code",
            "source": [
                "# Change the column names.\n",
                "burien.rename(columns={\"이번 달로 가기\": \"dates\", \"총매출\": \"total\", \"후카\":\"hookah\", \"GROCERY\":\"grcy\",\n",
                "                   \"메인포스\": \"main\", \"카드\": \"card\"}, inplace=True);"
            ],
            "metadata": {
                "language": "python",
                "azdata_cell_guid": "fbce17d0-db5e-4773-835d-326db2170429"
            },
            "outputs": [],
            "execution_count": 135
        },
        {
            "cell_type": "code",
            "source": [
                "burien.dropna(thresh=7, inplace=True)"
            ],
            "metadata": {
                "language": "python",
                "azdata_cell_guid": "7d331614-51ab-4b20-99b9-02ee2b08447c"
            },
            "outputs": [],
            "execution_count": 136
        },
        {
            "cell_type": "code",
            "source": [
                "# We would need to take the '$' out and make them into floats.\n",
                "for i in burien.columns:\n",
                "    burien[i] = burien[i].str.replace('$','')"
            ],
            "metadata": {
                "language": "python",
                "azdata_cell_guid": "f9dd79b4-a327-4d63-af97-748b2365b816"
            },
            "outputs": [
                {
                    "name": "stderr",
                    "text": "/var/folders/3c/yp84wwp916gfwxyxpt2b5g940000gn/T/ipykernel_90562/954954961.py:3: FutureWarning: The default value of regex will change from True to False in a future version. In addition, single character regular expressions will *not* be treated as literal strings when regex=True.\n  burien[i] = burien[i].str.replace('$','')\n",
                    "output_type": "stream"
                }
            ],
            "execution_count": 137
        },
        {
            "cell_type": "code",
            "source": [
                "burien = burien.fillna(0)"
            ],
            "metadata": {
                "language": "python",
                "azdata_cell_guid": "3739688a-d94f-4dae-aa60-30f5f480e008"
            },
            "outputs": [],
            "execution_count": 138
        },
        {
            "cell_type": "code",
            "source": [
                "burien['dates'] = burien.dates.str.replace(r\"[a-zA-Z]\",'')\n",
                "burien['dates'] = [i.replace(' ', '') for i in burien['dates']]"
            ],
            "metadata": {
                "language": "python",
                "azdata_cell_guid": "44654c31-2f2f-4bd5-ad25-7f40c0f62860"
            },
            "outputs": [
                {
                    "name": "stderr",
                    "text": "/var/folders/3c/yp84wwp916gfwxyxpt2b5g940000gn/T/ipykernel_90562/3767820747.py:1: FutureWarning: The default value of regex will change from True to False in a future version.\n  burien['dates'] = burien.dates.str.replace(r\"[a-zA-Z]\",'')\n",
                    "output_type": "stream"
                }
            ],
            "execution_count": 139
        },
        {
            "cell_type": "code",
            "source": [
                "# When looking at the columns, if the value is greater than one thousand, there is a comma before the hundredth digit. \n",
                "# To make them into a integer column, we will get rid of them. \n",
                "for i in burien.columns:\n",
                "    burien[i] = burien[i].str.replace(',','')"
            ],
            "metadata": {
                "language": "python",
                "azdata_cell_guid": "9c4cc52b-9e39-41cb-a6c2-8add05065e25"
            },
            "outputs": [],
            "execution_count": 140
        },
        {
            "cell_type": "code",
            "source": [
                "# Change uppercase column names to lowercase and put _ for spaces\n",
                "burien.columns = [col.replace(' ', '_').lower() for col in burien.columns]\n",
                "burien.columns = [col.replace('/', '_') for col in burien.columns]"
            ],
            "metadata": {
                "language": "python",
                "azdata_cell_guid": "3956a919-0c0f-4336-831c-2f3486d6f4e7"
            },
            "outputs": [],
            "execution_count": 141
        },
        {
            "cell_type": "code",
            "source": [
                "burien = burien.fillna(0)"
            ],
            "metadata": {
                "language": "python",
                "azdata_cell_guid": "40ff639c-1f65-4683-8fc7-129b578ee7b7"
            },
            "outputs": [],
            "execution_count": 142
        },
        {
            "cell_type": "code",
            "source": [
                "burien = burien.drop(burien.index[burien['total'] == 'C'])\n",
                "burien = burien.drop(burien.index[burien['total'] == 'P'])\n",
                "burien = burien.drop(burien.index[burien['carton'] == '(전기아웃)'])\n",
                "burien = burien.drop(burien.index[burien['hookah'] == 'p.w out'])"
            ],
            "metadata": {
                "language": "python",
                "azdata_cell_guid": "4e0b2c8a-6dfd-4406-b399-2300bc2562ab"
            },
            "outputs": [],
            "execution_count": 143
        },
        {
            "cell_type": "code",
            "source": [
                "burien[['total', 'pack', 'carton', 'grcy', 'misc', 'vape', 'kratom',\n",
                "       'tobacco', 'beer', 'hookah', 'main', 'card']] = burien[['total', 'pack', 'carton', 'grcy', 'misc', 'vape', 'kratom',\n",
                "       'tobacco', 'beer', 'hookah', 'main', 'card']].astype(float)"
            ],
            "metadata": {
                "language": "python",
                "azdata_cell_guid": "219c7d47-3df5-4768-92f2-65c569d746ab"
            },
            "outputs": [],
            "execution_count": 144
        },
        {
            "cell_type": "code",
            "source": [
                "burien['dates'] = pd.to_datetime(burien['dates'])"
            ],
            "metadata": {
                "language": "python",
                "azdata_cell_guid": "6e58ec93-07b4-4e63-a32f-627179cd2b99"
            },
            "outputs": [],
            "execution_count": 146
        },
        {
            "cell_type": "code",
            "source": [
                "burien['misc_total'] = burien['misc'] + burien['hookah'] + burien['kratom']"
            ],
            "metadata": {
                "language": "python",
                "azdata_cell_guid": "2821cb59-d527-4cd0-a72c-c005ce01cafb"
            },
            "outputs": [],
            "execution_count": 147
        },
        {
            "cell_type": "code",
            "source": [
                "burien = burien.drop(columns=['hookah', 'misc', 'kratom'])"
            ],
            "metadata": {
                "language": "python",
                "azdata_cell_guid": "0b203718-16a0-471a-a7b9-f20727fe573d"
            },
            "outputs": [],
            "execution_count": 148
        },
        {
            "cell_type": "code",
            "source": [
                "burien = burien[['dates', 'total', 'pack', 'carton', 'grcy', 'misc_total', 'vape', 'tobacco', 'beer', 'main', 'card']]"
            ],
            "metadata": {
                "language": "python",
                "azdata_cell_guid": "68f4d88b-f280-4764-a095-c33ff6266111"
            },
            "outputs": [],
            "execution_count": 149
        },
        {
            "cell_type": "code",
            "source": [
                "burien.to_csv('/Users/kyoungbari/Desktop/Project/burien/data/burien_eda.csv')"
            ],
            "metadata": {
                "language": "python",
                "azdata_cell_guid": "901cbaa3-c87a-4554-911e-f238606ab07d"
            },
            "outputs": [],
            "execution_count": 150
        }
    ]
}