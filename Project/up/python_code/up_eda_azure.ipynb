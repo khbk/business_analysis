{
    "metadata": {
        "kernelspec": {
            "name": "python3",
            "display_name": "Python 3 (ipykernel)",
            "language": "python"
        },
        "language_info": {
            "name": "python",
            "version": "3.9.12",
            "mimetype": "text/x-python",
            "codemirror_mode": {
                "name": "ipython",
                "version": 3
            },
            "pygments_lexer": "ipython3",
            "nbconvert_exporter": "python",
            "file_extension": ".py"
        }
    },
    "nbformat_minor": 2,
    "nbformat": 4,
    "cells": [
        {
            "cell_type": "code",
            "source": [
                "import pandas as pd\n",
                "import numpy as np\n",
                "import matplotlib.pyplot as plt\n",
                "import seaborn as sns"
            ],
            "metadata": {
                "azdata_cell_guid": "a9e0a577-4315-4367-a32b-d3e64a8e7615",
                "language": "python"
            },
            "outputs": [],
            "execution_count": 72
        },
        {
            "cell_type": "code",
            "source": [
                "up = pd.read_csv(\"../data/up.csv\")"
            ],
            "metadata": {
                "language": "python",
                "azdata_cell_guid": "5301c48b-a986-4140-858d-e0985c246269"
            },
            "outputs": [],
            "execution_count": 73
        },
        {
            "cell_type": "code",
            "source": [
                "up.head()"
            ],
            "metadata": {
                "language": "python",
                "azdata_cell_guid": "d132e0bd-8bfe-48ba-9fba-a96f86b9099d"
            },
            "outputs": [
                {
                    "data": {
                        "text/plain": "          Unnamed: 0 (Revenue Report)      이번 달로 가기        총매출     PACK  \\\n0           2020년 7월        $1,956.56  7/1/2020 Wed  $1,524.00  $580.84   \n1                NaN              NaN  7/2/2020 Thu  $1,580.41  $543.89   \n2      Total Revenue       $54,783.59  7/3/2020 Fri  $2,205.65  $803.29   \n3           Reported       $47,375.02  7/4/2020 Sat        NaN      NaN   \n4  Revenue from Card       $29,503.27  7/5/2020 Sun        NaN      NaN   \n\n  CARTON     GRCY GRCY NT KRATOM     MISC  ... LOTTO P/O SCRATCH.1  \\\n0  $0.00  $224.90     NaN    NaN   $20.32  ...       NaN       NaN   \n1  $0.00  $326.50   $0.00    NaN   $49.21  ...       NaN       NaN   \n2  $0.00  $266.26   $0.00    NaN  $150.82  ...       NaN       NaN   \n3    NaN      NaN     NaN    NaN      NaN  ...       NaN       NaN   \n4    NaN      NaN     NaN    NaN      NaN  ...       NaN       NaN   \n\n  SCRATCH P/O      $0.00 TOTALnontax Unnamed: 46    이번 달로 가기.1 Grcy NT  \\\n0         NaN  $1,524.00         NaN         NaN  7/1/2020 Wed     NaN   \n1         NaN  $1,580.41         NaN         NaN  7/2/2020 Thu   $0.00   \n2         NaN  $2,205.65         NaN         NaN  7/3/2020 Fri   $0.00   \n3         NaN      $0.00         NaN         NaN  7/4/2020 Sat     NaN   \n4         NaN      $0.00         NaN         NaN  7/5/2020 Sun     NaN   \n\n        TOTAL Unnamed: 50  \n0  -$1,524.00     $861.87  \n1  -$1,580.41     $669.42  \n2  -$2,205.65     $909.67  \n3       $0.00       $0.00  \n4       $0.00       $0.00  \n\n[5 rows x 51 columns]",
                        "text/html": "<div>\n<style scoped>\n    .dataframe tbody tr th:only-of-type {\n        vertical-align: middle;\n    }\n\n    .dataframe tbody tr th {\n        vertical-align: top;\n    }\n\n    .dataframe thead th {\n        text-align: right;\n    }\n</style>\n<table border=\"1\" class=\"dataframe\">\n  <thead>\n    <tr style=\"text-align: right;\">\n      <th></th>\n      <th>Unnamed: 0</th>\n      <th>(Revenue Report)</th>\n      <th>이번 달로 가기</th>\n      <th>총매출</th>\n      <th>PACK</th>\n      <th>CARTON</th>\n      <th>GRCY</th>\n      <th>GRCY NT</th>\n      <th>KRATOM</th>\n      <th>MISC</th>\n      <th>...</th>\n      <th>LOTTO P/O</th>\n      <th>SCRATCH.1</th>\n      <th>SCRATCH P/O</th>\n      <th>$0.00</th>\n      <th>TOTALnontax</th>\n      <th>Unnamed: 46</th>\n      <th>이번 달로 가기.1</th>\n      <th>Grcy NT</th>\n      <th>TOTAL</th>\n      <th>Unnamed: 50</th>\n    </tr>\n  </thead>\n  <tbody>\n    <tr>\n      <th>0</th>\n      <td>2020년 7월</td>\n      <td>$1,956.56</td>\n      <td>7/1/2020 Wed</td>\n      <td>$1,524.00</td>\n      <td>$580.84</td>\n      <td>$0.00</td>\n      <td>$224.90</td>\n      <td>NaN</td>\n      <td>NaN</td>\n      <td>$20.32</td>\n      <td>...</td>\n      <td>NaN</td>\n      <td>NaN</td>\n      <td>NaN</td>\n      <td>$1,524.00</td>\n      <td>NaN</td>\n      <td>NaN</td>\n      <td>7/1/2020 Wed</td>\n      <td>NaN</td>\n      <td>-$1,524.00</td>\n      <td>$861.87</td>\n    </tr>\n    <tr>\n      <th>1</th>\n      <td>NaN</td>\n      <td>NaN</td>\n      <td>7/2/2020 Thu</td>\n      <td>$1,580.41</td>\n      <td>$543.89</td>\n      <td>$0.00</td>\n      <td>$326.50</td>\n      <td>$0.00</td>\n      <td>NaN</td>\n      <td>$49.21</td>\n      <td>...</td>\n      <td>NaN</td>\n      <td>NaN</td>\n      <td>NaN</td>\n      <td>$1,580.41</td>\n      <td>NaN</td>\n      <td>NaN</td>\n      <td>7/2/2020 Thu</td>\n      <td>$0.00</td>\n      <td>-$1,580.41</td>\n      <td>$669.42</td>\n    </tr>\n    <tr>\n      <th>2</th>\n      <td>Total Revenue</td>\n      <td>$54,783.59</td>\n      <td>7/3/2020 Fri</td>\n      <td>$2,205.65</td>\n      <td>$803.29</td>\n      <td>$0.00</td>\n      <td>$266.26</td>\n      <td>$0.00</td>\n      <td>NaN</td>\n      <td>$150.82</td>\n      <td>...</td>\n      <td>NaN</td>\n      <td>NaN</td>\n      <td>NaN</td>\n      <td>$2,205.65</td>\n      <td>NaN</td>\n      <td>NaN</td>\n      <td>7/3/2020 Fri</td>\n      <td>$0.00</td>\n      <td>-$2,205.65</td>\n      <td>$909.67</td>\n    </tr>\n    <tr>\n      <th>3</th>\n      <td>Reported</td>\n      <td>$47,375.02</td>\n      <td>7/4/2020 Sat</td>\n      <td>NaN</td>\n      <td>NaN</td>\n      <td>NaN</td>\n      <td>NaN</td>\n      <td>NaN</td>\n      <td>NaN</td>\n      <td>NaN</td>\n      <td>...</td>\n      <td>NaN</td>\n      <td>NaN</td>\n      <td>NaN</td>\n      <td>$0.00</td>\n      <td>NaN</td>\n      <td>NaN</td>\n      <td>7/4/2020 Sat</td>\n      <td>NaN</td>\n      <td>$0.00</td>\n      <td>$0.00</td>\n    </tr>\n    <tr>\n      <th>4</th>\n      <td>Revenue from Card</td>\n      <td>$29,503.27</td>\n      <td>7/5/2020 Sun</td>\n      <td>NaN</td>\n      <td>NaN</td>\n      <td>NaN</td>\n      <td>NaN</td>\n      <td>NaN</td>\n      <td>NaN</td>\n      <td>NaN</td>\n      <td>...</td>\n      <td>NaN</td>\n      <td>NaN</td>\n      <td>NaN</td>\n      <td>$0.00</td>\n      <td>NaN</td>\n      <td>NaN</td>\n      <td>7/5/2020 Sun</td>\n      <td>NaN</td>\n      <td>$0.00</td>\n      <td>$0.00</td>\n    </tr>\n  </tbody>\n</table>\n<p>5 rows × 51 columns</p>\n</div>"
                    },
                    "metadata": {},
                    "execution_count": 74,
                    "output_type": "execute_result"
                }
            ],
            "execution_count": 74
        },
        {
            "cell_type": "code",
            "source": [
                "# Omit some columns that are not used.\n",
                "up.drop(columns=['Unnamed: 0', '(Revenue Report)','잡화 비율', '카드/총매출', \n",
                "                 'Unnamed: 25', 'Unnamed: 26', '주', '주별 평균 매출','PACK.1', \n",
                "                 'CARTON.1', 'GRCY.1', 'GRCY NT.1', 'KRATOM.1', 'MISC.1',\n",
                "                 'VAPE.1', 'APPAREL.1', 'TOBACCO.1', 'BEER', 'CIGAR.1', 'LOTTO.1',\n",
                "                 'LOTTO P/O', 'SCRATCH.1', 'SCRATCH P/O', '$0.00', 'TOTALnontax',\n",
                "                 'Unnamed: 46', '이번 달로 가기.1', 'Grcy NT', 'TOTAL', 'Unnamed: 50'], \n",
                "        inplace=True)"
            ],
            "metadata": {
                "azdata_cell_guid": "c30dfe60-ac40-489c-b546-973002b03d56",
                "language": "python"
            },
            "outputs": [],
            "execution_count": 75
        },
        {
            "cell_type": "code",
            "source": [
                "# Change the column names.\n",
                "up.rename(columns={\"이번 달로 가기\": \"dates\", \"총매출\": \"total\", \n",
                "                   \"메인포스\": \"main\", \"카드\": \"card\"}, inplace=True);"
            ],
            "metadata": {
                "language": "python",
                "azdata_cell_guid": "b3e0b924-b28f-463f-854a-2863e791945e"
            },
            "outputs": [],
            "execution_count": 76
        },
        {
            "cell_type": "code",
            "source": [
                "# Change uppercase column names to lowercase and put _ for spaces\n",
                "up.columns = [col.replace(' ', '_').lower() for col in up.columns]\n",
                "up.columns = [col.replace('/', '_') for col in up.columns]\n",
                "# There was a columns name that had space in the beginning\n",
                "up.rename(columns={\"_beer\": \"beer\"}, inplace=True);"
            ],
            "metadata": {
                "language": "python",
                "azdata_cell_guid": "a258179f-98b6-4166-951c-f4b971a18861"
            },
            "outputs": [],
            "execution_count": 77
        },
        {
            "cell_type": "code",
            "source": [
                "# Delete rows that contain null values for all\n",
                "up.dropna(thresh=10, inplace=True)"
            ],
            "metadata": {
                "language": "python",
                "azdata_cell_guid": "ee43ec05-a694-4d49-aed4-b927cd0e9b05"
            },
            "outputs": [],
            "execution_count": 78
        },
        {
            "cell_type": "code",
            "source": [
                "# We would need to take the '$' out and make them into floats.\n",
                "for i in up.columns:\n",
                "    up[i] = up[i].str.replace('$','')"
            ],
            "metadata": {
                "language": "python",
                "azdata_cell_guid": "4912696e-a4b7-473f-aa8a-360c5b57bc87"
            },
            "outputs": [
                {
                    "name": "stderr",
                    "text": "/var/folders/3c/yp84wwp916gfwxyxpt2b5g940000gn/T/ipykernel_87955/2518411798.py:3: FutureWarning: The default value of regex will change from True to False in a future version. In addition, single character regular expressions will *not* be treated as literal strings when regex=True.\n  up[i] = up[i].str.replace('$','')\n",
                    "output_type": "stream"
                }
            ],
            "execution_count": 79
        },
        {
            "cell_type": "code",
            "source": [
                "# Omit the very bottom row\n",
                "up = up.iloc[:-1, :]"
            ],
            "metadata": {
                "language": "python",
                "azdata_cell_guid": "07562efe-d9cc-4d25-b5b1-34d682b1969a"
            },
            "outputs": [],
            "execution_count": 80
        },
        {
            "cell_type": "code",
            "source": [
                "up = up.fillna(0)"
            ],
            "metadata": {
                "language": "python",
                "azdata_cell_guid": "b9ee6e87-af3b-4cbc-84c8-40a146102e5f"
            },
            "outputs": [],
            "execution_count": 81
        },
        {
            "cell_type": "code",
            "source": [
                "up['dates'] = up.dates.str.replace(r\"[a-zA-Z]\",'')\n",
                "up['dates'] = [i.replace(' ', '') for i in up['dates']]"
            ],
            "metadata": {
                "language": "python",
                "azdata_cell_guid": "cf92da5c-4cca-4282-86a9-3a00f6e8b7f6"
            },
            "outputs": [
                {
                    "name": "stderr",
                    "text": "/var/folders/3c/yp84wwp916gfwxyxpt2b5g940000gn/T/ipykernel_87955/1129996420.py:1: FutureWarning: The default value of regex will change from True to False in a future version.\n  up['dates'] = up.dates.str.replace(r\"[a-zA-Z]\",'')\n",
                    "output_type": "stream"
                }
            ],
            "execution_count": 82
        },
        {
            "cell_type": "code",
            "source": [
                "# When looking at the columns, if the value is greater than one thousand, there is a comma before the hundredth digit. \n",
                "# To make them into a integer column, we will get rid of them. \n",
                "for i in up.columns:\n",
                "    up[i] = up[i].str.replace(',','')"
            ],
            "metadata": {
                "language": "python",
                "azdata_cell_guid": "807a3781-ea26-47f4-b95f-4cc05d660575"
            },
            "outputs": [],
            "execution_count": 83
        },
        {
            "cell_type": "code",
            "source": [
                "up.columns"
            ],
            "metadata": {
                "language": "python",
                "azdata_cell_guid": "b1361a93-9fe0-46a0-bc90-470d797bbc2d"
            },
            "outputs": [
                {
                    "data": {
                        "text/plain": "Index(['dates', 'total', 'pack', 'carton', 'grcy', 'grcy_nt', 'kratom', 'misc',\n       'vape', 'apparel', 'tobacco', 'beer', 'cigar', 'cigar_accessory',\n       'cbd_d8', 'lotto', 'p_o', 'scratch', 'scp_o', 'main', 'card'],\n      dtype='object')"
                    },
                    "metadata": {},
                    "execution_count": 84,
                    "output_type": "execute_result"
                }
            ],
            "execution_count": 84
        },
        {
            "cell_type": "code",
            "source": [
                "up[['total', 'pack', 'carton', 'grcy', 'grcy_nt', 'kratom', 'misc',\n",
                "       'vape', 'apparel', 'tobacco', 'beer', 'cigar', 'cigar_accessory',\n",
                "       'cbd_d8', 'lotto', 'p_o', 'scratch', 'scp_o', 'main', 'card']] = up[['total', 'pack', 'carton', 'grcy', 'grcy_nt', 'kratom', 'misc',\n",
                "       'vape', 'apparel', 'tobacco', 'beer', 'cigar', 'cigar_accessory',\n",
                "       'cbd_d8', 'lotto', 'p_o', 'scratch', 'scp_o', 'main', 'card']].astype(float)"
            ],
            "metadata": {
                "language": "python",
                "azdata_cell_guid": "35526a70-55aa-4f5b-9557-b9664dc2b473"
            },
            "outputs": [],
            "execution_count": 85
        },
        {
            "cell_type": "code",
            "source": [
                "up['dates'] = pd.to_datetime(up['dates'])"
            ],
            "metadata": {
                "language": "python",
                "azdata_cell_guid": "69287fe6-b702-4c84-8747-b8afb3987473"
            },
            "outputs": [],
            "execution_count": 86
        },
        {
            "cell_type": "code",
            "source": [
                "# Eliminate all null values\n",
                "up = up.fillna(0)"
            ],
            "metadata": {
                "language": "python",
                "azdata_cell_guid": "68d84735-2c59-4c32-b63b-7f63fcc1ecf0"
            },
            "outputs": [],
            "execution_count": 87
        },
        {
            "cell_type": "code",
            "source": [
                "up['misc_total'] = up['misc'] + up['kratom'] + up['apparel'] + up['cigar_accessory'] + up['cbd_d8']"
            ],
            "metadata": {
                "language": "python",
                "azdata_cell_guid": "1c05f4f3-ed30-456f-97a0-185e177e0cc8"
            },
            "outputs": [],
            "execution_count": 88
        },
        {
            "cell_type": "code",
            "source": [
                "up = up.drop(columns=['misc', 'kratom', 'apparel', 'cigar_accessory', 'cbd_d8'])"
            ],
            "metadata": {
                "language": "python",
                "azdata_cell_guid": "a35f3060-ecca-4362-a5a0-0e2f02512803"
            },
            "outputs": [],
            "execution_count": 89
        },
        {
            "cell_type": "code",
            "source": [
                "up = up[['dates', 'total', 'pack', 'carton', 'grcy', 'grcy_nt', 'misc_total', 'vape', 'tobacco', 'beer', 'cigar', 'lotto', 'p_o', 'scratch', 'scp_o', 'main', 'card']]"
            ],
            "metadata": {
                "language": "python",
                "azdata_cell_guid": "3d11e63b-b135-4355-89e6-52556db72eda"
            },
            "outputs": [],
            "execution_count": 90
        },
        {
            "cell_type": "code",
            "source": [
                "up.to_csv('/Users/kyoungbari/Desktop/Project/up/data/up_df.csv')"
            ],
            "metadata": {
                "language": "python",
                "azdata_cell_guid": "f63099cf-11af-4ef7-a89e-a593ab928087"
            },
            "outputs": [],
            "execution_count": 93
        }
    ]
}