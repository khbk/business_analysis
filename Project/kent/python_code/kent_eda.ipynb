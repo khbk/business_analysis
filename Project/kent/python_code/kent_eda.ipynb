{
    "metadata": {
        "kernelspec": {
            "name": "python3",
            "display_name": "Python 3 (ipykernel)",
            "language": "python"
        },
        "language_info": {
            "name": "python",
            "version": "3.9.12",
            "mimetype": "text/x-python",
            "codemirror_mode": {
                "name": "ipython",
                "version": 3
            },
            "pygments_lexer": "ipython3",
            "nbconvert_exporter": "python",
            "file_extension": ".py"
        }
    },
    "nbformat_minor": 2,
    "nbformat": 4,
    "cells": [
        {
            "cell_type": "code",
            "source": [
                "import pandas as pd\n",
                "import numpy as np\n",
                "import matplotlib.pyplot as plt\n",
                "import seaborn as sns"
            ],
            "metadata": {
                "azdata_cell_guid": "d3e106c3-24fd-4986-a117-d60ed7d1f339",
                "language": "python"
            },
            "outputs": [],
            "execution_count": 34
        },
        {
            "cell_type": "code",
            "source": [
                "kent = pd.read_csv(\"/Users/kyoungbari/Desktop/Project/kent/data/kent.csv\")"
            ],
            "metadata": {
                "language": "python",
                "azdata_cell_guid": "c7e0d357-fe49-4bd8-a241-eb52b59485d8"
            },
            "outputs": [],
            "execution_count": 35
        },
        {
            "cell_type": "code",
            "source": [
                "pd.set_option('display.max_columns', None)\n",
                "kent.head(5)"
            ],
            "metadata": {
                "language": "python",
                "azdata_cell_guid": "786e7b63-9acb-4dec-a63c-262b7c387b8c"
            },
            "outputs": [
                {
                    "data": {
                        "text/plain": "      매출 보고 (Revenue Report)        이번 달로 가기        총매출        팩       카튼  \\\n0  2017년 3월            매출 보고   3/22/2017 Wed  $1,597.98  $356.53  $138.89   \n1       NaN              NaN  3/23/2017 Thur  $1,355.14  $319.78   $27.99   \n2     실제 수익       $13,861.83   3/24/2017 Fri  $1,661.57  $387.85   $81.90   \n3     보고 수익       $11,114.90   3/25/2017 Sat  $1,162.80  $409.53    $0.00   \n4     카드 수익        $6,556.52   3/27/2017 Mon  $1,732.84  $437.70  $217.08   \n\n     그로서리       잡화      토바코       맥주        메인포스       카드   잡화 비율  카드/총매출  \\\n0   $2.98  $750.50  $159.28   $50.27  -$1,362.56  $852.54  51.66%  53.35%   \n1  $11.02  $670.83  $115.21   $92.76    -$930.31  $506.88  54.45%  37.40%   \n2   $3.67  $782.35  $150.11  $111.50  -$1,442.03  $891.91  51.79%  53.68%   \n3   $4.47  $515.63   $91.77   $40.52    -$940.29  $595.48  48.78%  51.21%   \n4  $16.89  $610.32  $193.00  $107.52  -$1,409.94  $831.28  38.74%  47.97%   \n\n  Unnamed: 14       주   주별 평균 매출 평균 담배 갑   평균 담배보루 평균 그로서리    평균 잡화   평균 토바코  \\\n0         NaN  Week 1  $1,444.37  $368.42   $62.20   $5.54  $679.83  $129.09   \n1         NaN     NaN        NaN      NaN      NaN     NaN      NaN      NaN   \n2         NaN     NaN        NaN      NaN      NaN     NaN      NaN      NaN   \n3         NaN     NaN        NaN      NaN      NaN     NaN      NaN      NaN   \n4         NaN  Week 2  $1,641.54  $476.00  $141.48  $13.98  $620.69  $162.14   \n\n    평균 맥주       누락    주별 총 누락 Unnamed: 25  매출  담배 갑   담배보루  그로서리.1  잡화.1  \\\n0  $73.76  $235.42  $1,102.30         NaN NaN    NaN   NaN     NaN   NaN   \n1     NaN  $424.83        NaN         NaN NaN    NaN   NaN     NaN   NaN   \n2     NaN  $219.54        NaN         NaN NaN    NaN   NaN     NaN   NaN   \n3     NaN  $222.51        NaN         NaN NaN    NaN   NaN     NaN   NaN   \n4  $83.54  $322.90  $2,098.35         NaN NaN    NaN   NaN     NaN   NaN   \n\n   토바코.1  맥주.1  \n0    NaN   NaN  \n1    NaN   NaN  \n2    NaN   NaN  \n3    NaN   NaN  \n4    NaN   NaN  ",
                        "text/html": "<div>\n<style scoped>\n    .dataframe tbody tr th:only-of-type {\n        vertical-align: middle;\n    }\n\n    .dataframe tbody tr th {\n        vertical-align: top;\n    }\n\n    .dataframe thead th {\n        text-align: right;\n    }\n</style>\n<table border=\"1\" class=\"dataframe\">\n  <thead>\n    <tr style=\"text-align: right;\">\n      <th></th>\n      <th>매출 보고</th>\n      <th>(Revenue Report)</th>\n      <th>이번 달로 가기</th>\n      <th>총매출</th>\n      <th>팩</th>\n      <th>카튼</th>\n      <th>그로서리</th>\n      <th>잡화</th>\n      <th>토바코</th>\n      <th>맥주</th>\n      <th>메인포스</th>\n      <th>카드</th>\n      <th>잡화 비율</th>\n      <th>카드/총매출</th>\n      <th>Unnamed: 14</th>\n      <th>주</th>\n      <th>주별 평균 매출</th>\n      <th>평균 담배 갑</th>\n      <th>평균 담배보루</th>\n      <th>평균 그로서리</th>\n      <th>평균 잡화</th>\n      <th>평균 토바코</th>\n      <th>평균 맥주</th>\n      <th>누락</th>\n      <th>주별 총 누락</th>\n      <th>Unnamed: 25</th>\n      <th>매출</th>\n      <th>담배 갑</th>\n      <th>담배보루</th>\n      <th>그로서리.1</th>\n      <th>잡화.1</th>\n      <th>토바코.1</th>\n      <th>맥주.1</th>\n    </tr>\n  </thead>\n  <tbody>\n    <tr>\n      <th>0</th>\n      <td>2017년 3월</td>\n      <td>매출 보고</td>\n      <td>3/22/2017 Wed</td>\n      <td>$1,597.98</td>\n      <td>$356.53</td>\n      <td>$138.89</td>\n      <td>$2.98</td>\n      <td>$750.50</td>\n      <td>$159.28</td>\n      <td>$50.27</td>\n      <td>-$1,362.56</td>\n      <td>$852.54</td>\n      <td>51.66%</td>\n      <td>53.35%</td>\n      <td>NaN</td>\n      <td>Week 1</td>\n      <td>$1,444.37</td>\n      <td>$368.42</td>\n      <td>$62.20</td>\n      <td>$5.54</td>\n      <td>$679.83</td>\n      <td>$129.09</td>\n      <td>$73.76</td>\n      <td>$235.42</td>\n      <td>$1,102.30</td>\n      <td>NaN</td>\n      <td>NaN</td>\n      <td>NaN</td>\n      <td>NaN</td>\n      <td>NaN</td>\n      <td>NaN</td>\n      <td>NaN</td>\n      <td>NaN</td>\n    </tr>\n    <tr>\n      <th>1</th>\n      <td>NaN</td>\n      <td>NaN</td>\n      <td>3/23/2017 Thur</td>\n      <td>$1,355.14</td>\n      <td>$319.78</td>\n      <td>$27.99</td>\n      <td>$11.02</td>\n      <td>$670.83</td>\n      <td>$115.21</td>\n      <td>$92.76</td>\n      <td>-$930.31</td>\n      <td>$506.88</td>\n      <td>54.45%</td>\n      <td>37.40%</td>\n      <td>NaN</td>\n      <td>NaN</td>\n      <td>NaN</td>\n      <td>NaN</td>\n      <td>NaN</td>\n      <td>NaN</td>\n      <td>NaN</td>\n      <td>NaN</td>\n      <td>NaN</td>\n      <td>$424.83</td>\n      <td>NaN</td>\n      <td>NaN</td>\n      <td>NaN</td>\n      <td>NaN</td>\n      <td>NaN</td>\n      <td>NaN</td>\n      <td>NaN</td>\n      <td>NaN</td>\n      <td>NaN</td>\n    </tr>\n    <tr>\n      <th>2</th>\n      <td>실제 수익</td>\n      <td>$13,861.83</td>\n      <td>3/24/2017 Fri</td>\n      <td>$1,661.57</td>\n      <td>$387.85</td>\n      <td>$81.90</td>\n      <td>$3.67</td>\n      <td>$782.35</td>\n      <td>$150.11</td>\n      <td>$111.50</td>\n      <td>-$1,442.03</td>\n      <td>$891.91</td>\n      <td>51.79%</td>\n      <td>53.68%</td>\n      <td>NaN</td>\n      <td>NaN</td>\n      <td>NaN</td>\n      <td>NaN</td>\n      <td>NaN</td>\n      <td>NaN</td>\n      <td>NaN</td>\n      <td>NaN</td>\n      <td>NaN</td>\n      <td>$219.54</td>\n      <td>NaN</td>\n      <td>NaN</td>\n      <td>NaN</td>\n      <td>NaN</td>\n      <td>NaN</td>\n      <td>NaN</td>\n      <td>NaN</td>\n      <td>NaN</td>\n      <td>NaN</td>\n    </tr>\n    <tr>\n      <th>3</th>\n      <td>보고 수익</td>\n      <td>$11,114.90</td>\n      <td>3/25/2017 Sat</td>\n      <td>$1,162.80</td>\n      <td>$409.53</td>\n      <td>$0.00</td>\n      <td>$4.47</td>\n      <td>$515.63</td>\n      <td>$91.77</td>\n      <td>$40.52</td>\n      <td>-$940.29</td>\n      <td>$595.48</td>\n      <td>48.78%</td>\n      <td>51.21%</td>\n      <td>NaN</td>\n      <td>NaN</td>\n      <td>NaN</td>\n      <td>NaN</td>\n      <td>NaN</td>\n      <td>NaN</td>\n      <td>NaN</td>\n      <td>NaN</td>\n      <td>NaN</td>\n      <td>$222.51</td>\n      <td>NaN</td>\n      <td>NaN</td>\n      <td>NaN</td>\n      <td>NaN</td>\n      <td>NaN</td>\n      <td>NaN</td>\n      <td>NaN</td>\n      <td>NaN</td>\n      <td>NaN</td>\n    </tr>\n    <tr>\n      <th>4</th>\n      <td>카드 수익</td>\n      <td>$6,556.52</td>\n      <td>3/27/2017 Mon</td>\n      <td>$1,732.84</td>\n      <td>$437.70</td>\n      <td>$217.08</td>\n      <td>$16.89</td>\n      <td>$610.32</td>\n      <td>$193.00</td>\n      <td>$107.52</td>\n      <td>-$1,409.94</td>\n      <td>$831.28</td>\n      <td>38.74%</td>\n      <td>47.97%</td>\n      <td>NaN</td>\n      <td>Week 2</td>\n      <td>$1,641.54</td>\n      <td>$476.00</td>\n      <td>$141.48</td>\n      <td>$13.98</td>\n      <td>$620.69</td>\n      <td>$162.14</td>\n      <td>$83.54</td>\n      <td>$322.90</td>\n      <td>$2,098.35</td>\n      <td>NaN</td>\n      <td>NaN</td>\n      <td>NaN</td>\n      <td>NaN</td>\n      <td>NaN</td>\n      <td>NaN</td>\n      <td>NaN</td>\n      <td>NaN</td>\n    </tr>\n  </tbody>\n</table>\n</div>"
                    },
                    "metadata": {},
                    "execution_count": 36,
                    "output_type": "execute_result"
                }
            ],
            "execution_count": 36
        },
        {
            "cell_type": "code",
            "source": [
                "kent = kent[['이번 달로 가기', '총매출', '팩', '카튼', '그로서리', '잡화', '토바코', '맥주', '메인포스', '카드']]"
            ],
            "metadata": {
                "language": "python",
                "azdata_cell_guid": "07fcd220-9e9f-4711-bc57-a343f65704d9"
            },
            "outputs": [],
            "execution_count": 37
        },
        {
            "cell_type": "code",
            "source": [
                "# Change the column names.\n",
                "kent.rename(columns={\"이번 달로 가기\": \"dates\", \"총매출\": \"total\", '팩': 'pack', '카튼':'carton', '그로서리':'grcy', '잡화':'misc_total', \n",
                "                    '토바코': 'tobacco', '맥주':'beer', \"메인포스\": \"main\", \"카드\": \"card\"}, inplace=True);"
            ],
            "metadata": {
                "language": "python",
                "azdata_cell_guid": "6cc2fa33-095b-4885-9da6-e415ee33723e",
                "tags": []
            },
            "outputs": [],
            "execution_count": 38
        },
        {
            "cell_type": "code",
            "source": [
                "kent.dropna(thresh=7, inplace=True)"
            ],
            "metadata": {
                "language": "python",
                "azdata_cell_guid": "da6cc926-d336-40d2-a4df-176516f39dee"
            },
            "outputs": [],
            "execution_count": 39
        },
        {
            "cell_type": "code",
            "source": [
                "# We would need to take the '$' out and make them into floats.\n",
                "for i in kent.columns:\n",
                "    kent[i] = kent[i].str.replace('$','')"
            ],
            "metadata": {
                "language": "python",
                "azdata_cell_guid": "3b6f7403-486f-45e3-9237-9e7688ba3af9"
            },
            "outputs": [
                {
                    "name": "stderr",
                    "text": "/var/folders/3c/yp84wwp916gfwxyxpt2b5g940000gn/T/ipykernel_90130/3585085455.py:3: FutureWarning: The default value of regex will change from True to False in a future version. In addition, single character regular expressions will *not* be treated as literal strings when regex=True.\n  kent[i] = kent[i].str.replace('$','')\n",
                    "output_type": "stream"
                }
            ],
            "execution_count": 40
        },
        {
            "cell_type": "code",
            "source": [
                "kent = kent.fillna(0)"
            ],
            "metadata": {
                "language": "python",
                "azdata_cell_guid": "f80130fa-9e7f-468b-b56b-ef436dc2eed5"
            },
            "outputs": [],
            "execution_count": 41
        },
        {
            "cell_type": "code",
            "source": [
                "kent['dates'] = kent.dates.str.replace(r\"[a-zA-Z]\",'')\n",
                "kent['dates'] = [i.replace(' ', '') for i in kent['dates']]"
            ],
            "metadata": {
                "language": "python",
                "azdata_cell_guid": "7d278ceb-91ea-4246-9ed2-37e0ac691b9c"
            },
            "outputs": [
                {
                    "name": "stderr",
                    "text": "/var/folders/3c/yp84wwp916gfwxyxpt2b5g940000gn/T/ipykernel_90130/2996760678.py:1: FutureWarning: The default value of regex will change from True to False in a future version.\n  kent['dates'] = kent.dates.str.replace(r\"[a-zA-Z]\",'')\n",
                    "output_type": "stream"
                }
            ],
            "execution_count": 42
        },
        {
            "cell_type": "code",
            "source": [
                "# When looking at the columns, if the value is greater than one thousand, there is a comma before the hundredth digit. \n",
                "# To make them into a integer column, we will get rid of them. \n",
                "for i in kent.columns:\n",
                "    kent[i] = kent[i].str.replace(',','')"
            ],
            "metadata": {
                "language": "python",
                "azdata_cell_guid": "20d3a896-d83a-4b83-aa7b-1d7d8e22dbec"
            },
            "outputs": [],
            "execution_count": 43
        },
        {
            "cell_type": "code",
            "source": [
                "kent[['total', 'pack', 'carton', 'grcy', 'misc_total', 'tobacco', 'beer', 'main', 'card']] = kent[['total', 'pack', 'carton', 'grcy', 'misc_total', 'tobacco', 'beer', 'main', 'card']].astype(float)"
            ],
            "metadata": {
                "language": "python",
                "azdata_cell_guid": "e6bf50ce-5fe1-4964-b7a4-10e35b36260c"
            },
            "outputs": [],
            "execution_count": 45
        },
        {
            "cell_type": "code",
            "source": [
                "kent['dates'] = pd.to_datetime(kent['dates'])"
            ],
            "metadata": {
                "language": "python",
                "azdata_cell_guid": "05205afd-2ca2-4e38-99d0-093755314817"
            },
            "outputs": [],
            "execution_count": 46
        },
        {
            "cell_type": "code",
            "source": [
                "kent.to_csv('/Users/kyoungbari/Desktop/Project/kent/data/kent_eda.csv')"
            ],
            "metadata": {
                "language": "python",
                "azdata_cell_guid": "90715dd9-9c7d-40ad-be65-8598bcefd4d8"
            },
            "outputs": [],
            "execution_count": 47
        }
    ]
}