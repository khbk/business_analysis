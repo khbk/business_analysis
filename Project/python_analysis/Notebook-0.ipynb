{
    "metadata": {
        "kernelspec": {
            "name": "python3",
            "display_name": "Python 3 (ipykernel)",
            "language": "python"
        },
        "language_info": {
            "name": "python",
            "version": "3.9.12",
            "mimetype": "text/x-python",
            "codemirror_mode": {
                "name": "ipython",
                "version": 3
            },
            "pygments_lexer": "ipython3",
            "nbconvert_exporter": "python",
            "file_extension": ".py"
        }
    },
    "nbformat_minor": 2,
    "nbformat": 4,
    "cells": [
        {
            "cell_type": "markdown",
            "source": [
                "# **FEATURE ENGINEERING**"
            ],
            "metadata": {
                "language": "python",
                "azdata_cell_guid": "f5f17d33-95a7-4f19-9314-2cd437645803"
            },
            "attachments": {}
        },
        {
            "cell_type": "code",
            "source": [
                "import pandas as pd\n",
                "import numpy as np\n",
                "import seaborn as sns\n",
                "import matplotlib.pyplot as plt\n",
                "\n",
                "from sklearn.model_selection import train_test_split, cross_val_score\n",
                "from sklearn.preprocessing import StandardScaler, PolynomialFeatures\n",
                "import sklearn.metrics as metrics"
            ],
            "metadata": {
                "azdata_cell_guid": "55693ac7-63ee-401e-b58f-cb539a83ade3",
                "language": "python"
            },
            "outputs": [],
            "execution_count": 1
        },
        {
            "cell_type": "code",
            "source": [
                "up = pd.read_csv('/Users/kyoungbari/Desktop/Project/up/data/up_df.csv')"
            ],
            "metadata": {
                "language": "python",
                "azdata_cell_guid": "fc59c6aa-9819-41b2-9b6e-e53913510f37"
            },
            "outputs": [],
            "execution_count": 4
        },
        {
            "cell_type": "code",
            "source": [
                "features = ['pack', 'carton', 'grcy', 'grcy_nt', \n",
                "           'misc_total', 'vape', 'tobacco', 'beer', \n",
                "           'cigar', 'lotto', 'p_o', 'scratch', 'scp_o']\n",
                "X = up[features]\n",
                "y = up['total']"
            ],
            "metadata": {
                "language": "python",
                "azdata_cell_guid": "e47a3105-5d83-4b35-8e00-aca0e531ebf0"
            },
            "outputs": [],
            "execution_count": 5
        },
        {
            "cell_type": "code",
            "source": [
                "X_train, X_test, y_train, y_test = train_test_split(X, y, random_state = 50)"
            ],
            "metadata": {
                "language": "python",
                "azdata_cell_guid": "dd77d3d3-7719-405b-ba44-874de4c56e64"
            },
            "outputs": [],
            "execution_count": 6
        },
        {
            "cell_type": "markdown",
            "source": [
                "## **LINEAR REGRESSION**"
            ],
            "metadata": {
                "language": "",
                "azdata_cell_guid": "f8c06339-be3b-4db7-bf62-da3f8bdf5ab7"
            },
            "attachments": {}
        },
        {
            "cell_type": "code",
            "source": [
                "from sklearn.linear_model import LinearRegression, LogisticRegression"
            ],
            "metadata": {
                "language": "python",
                "azdata_cell_guid": "91630fa8-dcef-40aa-89c5-2bf1c1e571ef"
            },
            "outputs": [],
            "execution_count": 7
        },
        {
            "cell_type": "code",
            "source": [
                "lr = LinearRegression()"
            ],
            "metadata": {
                "language": "python",
                "azdata_cell_guid": "ea4fbf49-28b1-42a5-84f1-46044080f376"
            },
            "outputs": [],
            "execution_count": 8
        },
        {
            "cell_type": "code",
            "source": [
                "lr.fit(X, y)"
            ],
            "metadata": {
                "language": "python",
                "azdata_cell_guid": "d186665c-6974-4c24-bcb9-1974d6253b13"
            },
            "outputs": [
                {
                    "data": {
                        "text/plain": "LinearRegression()"
                    },
                    "metadata": {},
                    "execution_count": 9,
                    "output_type": "execute_result"
                }
            ],
            "execution_count": 9
        },
        {
            "cell_type": "code",
            "source": [
                "lr.coef_"
            ],
            "metadata": {
                "language": "python",
                "azdata_cell_guid": "621ebd3a-3cd6-46a8-97a9-a6b00aaa144f"
            },
            "outputs": [
                {
                    "data": {
                        "text/plain": "array([0.91396109, 0.9993346 , 1.1196419 , 0.67972178, 1.10260961,\n       1.11954129, 0.73889472, 0.95820535, 1.15866009, 1.08787221,\n       0.96352596, 0.6979771 , 0.40260836])"
                    },
                    "metadata": {},
                    "execution_count": 10,
                    "output_type": "execute_result"
                }
            ],
            "execution_count": 10
        },
        {
            "cell_type": "code",
            "source": [
                "predictions = lr.predict(X)"
            ],
            "metadata": {
                "language": "python",
                "azdata_cell_guid": "9cdafb26-7265-4fca-8fd8-342ca279cfad"
            },
            "outputs": [],
            "execution_count": 11
        },
        {
            "cell_type": "code",
            "source": [
                "lr.score(X, y)"
            ],
            "metadata": {
                "language": "python",
                "azdata_cell_guid": "3368ca17-2f77-4c46-994c-5c34decedc2f"
            },
            "outputs": [
                {
                    "data": {
                        "text/plain": "0.9755631233909654"
                    },
                    "metadata": {},
                    "execution_count": 12,
                    "output_type": "execute_result"
                }
            ],
            "execution_count": 12
        },
        {
            "cell_type": "markdown",
            "source": [
                "K NEAREST NEIGHBORS"
            ],
            "metadata": {
                "language": "python",
                "azdata_cell_guid": "5773d52e-7921-4580-b320-e9422a4de23c"
            },
            "attachments": {}
        },
        {
            "cell_type": "code",
            "source": [
                "from sklearn.neighbors import KNeighborsClassifier"
            ],
            "metadata": {
                "language": "python",
                "azdata_cell_guid": "a1bc131d-aca4-4739-befa-5fe0eafb5554"
            },
            "outputs": [],
            "execution_count": 13
        }
    ]
}